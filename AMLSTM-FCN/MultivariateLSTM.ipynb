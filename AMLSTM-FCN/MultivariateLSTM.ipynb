{
  "nbformat": 4,
  "nbformat_minor": 0,
  "metadata": {
    "colab": {
      "name": "MultivariateLSTM.ipynb",
      "provenance": [],
      "collapsed_sections": []
    },
    "kernelspec": {
      "name": "python39764bittfcondad42380e37f19495997ad366e61cbaf70",
      "display_name": "Python 3.9.7 64-bit ('tf': conda)"
    },
    "language_info": {
      "name": "python",
      "version": "3.9.7-final"
    },
    "accelerator": "GPU"
  },
  "cells": [
    {
      "cell_type": "code",
      "source": [
        "# !pip install tensorflow-gpu # make sure cuda toolkit and nvidia dependencies/drivers are correctly installed\n",
        "# !pip install pandas\n",
        "# !pip install numpy\n",
        "# !pip install matplotlib\n",
        "# !pip install mlflow\n",
        "# !pip install scipy\n",
        "# !pip install keras"
      ],
      "metadata": {
        "id": "INLDzE7ASC3Q"
      },
      "execution_count": 1,
      "outputs": []
    },
    {
      "cell_type": "code",
      "execution_count": 98,
      "metadata": {
        "id": "Sf50m6aMRR81"
      },
      "outputs": [
        {
          "output_type": "stream",
          "name": "stdout",
          "text": [
            "The tensorboard extension is already loaded. To reload it, use:\n  %reload_ext tensorboard\n"
          ]
        }
      ],
      "source": [
        "# Load the TensorBoard notebook extension\n",
        "%load_ext tensorboard\n",
        "\n",
        "import numpy as np\n",
        "import pandas as pd\n",
        "import matplotlib.pyplot as plt\n",
        "import tensorflow as tf\n",
        "import plotly.express as px\n",
        "\n",
        "from pycm import ConfusionMatrix\n",
        "\n",
        "from keras.models import Model\n",
        "from keras.layers import Input, LSTM, Bidirectional, Dense, Masking, Reshape, Activation, Masking\n",
        "from keras.layers import Conv1D, BatchNormalization, GlobalAveragePooling1D, Permute, Dropout, concatenate\n",
        "from keras.preprocessing.sequence import TimeseriesGenerator\n",
        "from keras.callbacks import TensorBoard, EarlyStopping\n",
        "from tensorflow.keras.utils import to_categorical, timeseries_dataset_from_array\n",
        "\n",
        "from sklearn.preprocessing import MinMaxScaler\n",
        "from sklearn.model_selection import train_test_split\n",
        "\n",
        "from time import time\n",
        "from datetime import datetime, timedelta\n",
        "\n",
        "from pathlib import Path\n",
        "\n",
        "from data_utils import get_vol, get_touches, get_labels, get_horizons, load_data, label_series, verify_labels\n",
        "from ModelArchitecture import generate_mlstmfcn\n"
      ]
    },
    {
      "cell_type": "code",
      "execution_count": 3,
      "metadata": {},
      "outputs": [
        {
          "output_type": "stream",
          "name": "stdout",
          "text": [
            "Found GPU at: /device:GPU:0\n",
            "2022-03-03 10:48:17.661567: I tensorflow/core/platform/cpu_feature_guard.cc:151] This TensorFlow binary is optimized with oneAPI Deep Neural Network Library (oneDNN) to use the following CPU instructions in performance-critical operations:  AVX2 FMA\n",
            "To enable them in other operations, rebuild TensorFlow with the appropriate compiler flags.\n",
            "2022-03-03 10:48:18.070025: I tensorflow/core/common_runtime/gpu/gpu_device.cc:1525] Created device /device:GPU:0 with 3384 MB memory:  -> device: 0, name: NVIDIA GeForce GTX 1660 Ti, pci bus id: 0000:01:00.0, compute capability: 7.5\n"
          ]
        }
      ],
      "source": [
        "physical_devices = tf.config.list_physical_devices('GPU')\n",
        "tf.config.experimental.set_memory_growth(physical_devices[0], True)\n",
        "\n",
        "device_name = tf.test.gpu_device_name()\n",
        "if device_name != '/device:GPU:0':\n",
        "  raise SystemError('GPU device not found')\n",
        "print('Found GPU at: {}'.format(device_name))"
      ]
    },
    {
      "cell_type": "code",
      "source": [
        "dataset_df, names = load_data(\"../Data/\")"
      ],
      "metadata": {
        "id": "WE-vs10WToFk"
      },
      "execution_count": 4,
      "outputs": []
    },
    {
      "cell_type": "code",
      "execution_count": 24,
      "metadata": {},
      "outputs": [
        {
          "output_type": "stream",
          "name": "stdout",
          "text": [
            "                        Close\nTimestamp                    \n2020-01-16 00:00:00  0.000000\n2020-01-16 00:05:00 -0.014244\n2020-01-16 00:10:00 -0.230993\n2020-01-16 00:15:00 -0.133613\n2020-01-16 00:20:00 -0.660447\n"
          ]
        }
      ],
      "source": [
        "BTC_SAMPLE = pd.DataFrame(index = dataset_df.index)\n",
        "BTC_SAMPLE[\"Close\"] = dataset_df['BTC_USD-5m']\n",
        "BTC_SAMPLE.Close = BTC_SAMPLE.Close.pct_change(1).mul(100)\n",
        "BTC_SAMPLE = BTC_SAMPLE.fillna(0.0)\n",
        "print(BTC_SAMPLE.head(5))\n",
        "\n"
      ]
    },
    {
      "cell_type": "code",
      "execution_count": 6,
      "metadata": {},
      "outputs": [],
      "source": [
        "labels = label_series(BTC_SAMPLE.Close)"
      ]
    },
    {
      "cell_type": "code",
      "execution_count": 8,
      "metadata": {},
      "outputs": [],
      "source": [
        "labels.to_csv('./Processed/BTClabels.csv')"
      ]
    },
    {
      "cell_type": "code",
      "execution_count": 9,
      "metadata": {},
      "outputs": [],
      "source": [
        "# labels = pd.read_csv('./Processed/BTClabels.csv')\n",
        "# labels.set_index('Timestamp', inplace=True)"
      ]
    },
    {
      "cell_type": "code",
      "execution_count": 25,
      "metadata": {},
      "outputs": [
        {
          "output_type": "stream",
          "name": "stdout",
          "text": [
            "Price Index 0: 2020-01-16 00:00:00 vs. Label Index 0: 2020-01-16 01:10:00\nPrice Index -1: 2022-01-15 10:50:00 vs. Price Index -1: 2022-01-15 10:35:00\n"
          ]
        }
      ],
      "source": [
        "print(\"Price Index 0: {a} vs. Label Index 0: {b}\".format(a=BTC_SAMPLE.index[0], b=labels.index[0]))\n",
        "print(\"Price Index -1: {a} vs. Price Index -1: {b}\".format(a=BTC_SAMPLE.index[-1], b=labels.index[-1]))"
      ]
    },
    {
      "cell_type": "code",
      "execution_count": 26,
      "metadata": {},
      "outputs": [
        {
          "output_type": "stream",
          "name": "stdout",
          "text": [
            " 0.0    0.566407\n 1.0    0.217828\n-1.0    0.215765\nName: label, dtype: float64\n(209955, 3)\n"
          ]
        }
      ],
      "source": [
        "BTC_SAMPLE = BTC_SAMPLE.truncate(before=pd.Timestamp(labels.index[0]), \\\n",
        "    after=pd.Timestamp(labels.index[-1]))\n",
        "labels = labels.truncate(before=pd.Timestamp(BTC_SAMPLE.index[0]), \\\n",
        "     after=pd.Timestamp(BTC_SAMPLE.index[-1]))\n",
        "\n",
        "np_labels = labels.to_numpy()\n",
        "one_hot_encoded_labels = to_categorical(np_labels, num_classes=3)\n",
        " \n",
        "print(labels.value_counts(normalize=True, dropna=True))\n",
        "print(one_hot_encoded_labels.shape)\n"
      ]
    },
    {
      "cell_type": "code",
      "source": [
        "values = BTC_SAMPLE.Close.to_numpy()\n",
        "if values.ndim == 1:\n",
        "    values = values.reshape(-1, 1)\n",
        "scaler = MinMaxScaler()\n",
        "scaled = scaler.fit_transform(values)\n",
        "X = scaled\n",
        "\n",
        "\n",
        "input_timesteps = 128\n",
        "batch_size = 128\n",
        "\n",
        "# split into train and test sets (Train: 68%, Val: 12%, Test: 20%)\n",
        "trainX, testX, trainY, testY = train_test_split(X, one_hot_encoded_labels, test_size=0.10, random_state=42, shuffle = False)\n",
        "trainX, valX, trainY, valY = train_test_split(trainX, trainY, test_size=0.15, random_state=42, shuffle=False)\n",
        "\n",
        "train_dataset = timeseries_dataset_from_array(trainX, trainY, input_timesteps, batch_size=batch_size, shuffle=False)\n",
        "test_dataset = timeseries_dataset_from_array(testX, testY, input_timesteps, batch_size=batch_size, shuffle=False)\n",
        "val_dataset = timeseries_dataset_from_array(valX, valY, input_timesteps, batch_size=batch_size, shuffle=False)\n",
        "\n",
        "print(\"trainX Shape:\" + str(trainX.shape))\n",
        "print(\"trainY Shape:\" + str(trainY.shape))\n",
        "print(\"testX Shape:\" + str(testX.shape))\n",
        "print(\"testY Shape:\" + str(testY.shape))\n",
        "\n",
        "verify_labels(train_dataset, trainY, batch_size)"
      ],
      "metadata": {
        "colab": {
          "base_uri": "https://localhost:8080/"
        },
        "id": "bqzU_NFganNz",
        "outputId": "a73349e2-5222-494f-b4b6-0a4a9aa4747d"
      },
      "execution_count": 27,
      "outputs": [
        {
          "output_type": "stream",
          "name": "stdout",
          "text": [
            "trainX Shape:(160615, 1)\n",
            "trainY Shape:(160615, 3)\n",
            "testX Shape:(20996, 1)\n",
            "testY Shape:(20996, 3)\n",
            "Unequal Shapes at Index 1253 (If the index is large then it is the remainder of the set after batch processing)\n",
            "Target Shape: (104, 3) vs. Label Sequence Slice Shape: (128, 3)\n"
          ]
        }
      ]
    },
    {
      "cell_type": "code",
      "source": [
        "units = 128 # Arbituary Number\n",
        "features = trainX.shape[1] # Number of different trading pairs in the dataframe ie. BTC/USD (aka: # of columns)\n",
        "num_epoch = 25\n",
        "learning_rate = 0.00144\n",
        "class_weight = { 0 : 1, 1 : 1, 2: 1}\n",
        "logdir = \"logs/\" + datetime.now().strftime(\"%Y%m%d-%H%M%S\")\n",
        "tensorboard_callback = TensorBoard(log_dir=logdir, histogram_freq=1)\n",
        "\n",
        "# input_shape=(train_sample_X[1].shape, train_sample_X[2].shape)\n",
        "model = generate_mlstmfcn(input_timesteps, features, 3, 24)\n",
        "\n",
        "\n",
        "\n",
        "adam = tf.keras.optimizers.Adam(learning_rate=learning_rate)\n",
        "\n",
        "# Stop training when a monitored quantity has stopped improving.\n",
        "callbacks = [EarlyStopping(monitor=\"loss\", \\\n",
        "                            min_delta = 0.00001, \\\n",
        "                            patience = 50, mode = 'auto', \\\n",
        "                            restore_best_weights=True), \\\n",
        "                            tensorboard_callback] \n",
        "\n",
        "\n",
        "# Using regression loss function 'Mean Standard Error' and validation metric 'Mean Absolute Error'\n",
        "model.compile(loss='categorical_crossentropy', optimizer=adam, weighted_metrics=['accuracy'])\n",
        "\n",
        "\n",
        "# fit network\n",
        "history = model.fit(train_dataset, \\\n",
        "                            epochs=num_epoch, \\\n",
        "                            validation_data=val_dataset, \\\n",
        "                            callbacks = callbacks, \\\n",
        "                            verbose=2, \\\n",
        "                            shuffle=False, \\\n",
        "                            initial_epoch=0, \\\n",
        "                            class_weight=class_weight\n",
        "                            )\n"
      ],
      "metadata": {
        "colab": {
          "base_uri": "https://localhost:8080/",
          "height": 1000
        },
        "id": "kEJgb3UIiE36",
        "outputId": "1749a0a4-c9ab-487e-c98a-89457ef4c255"
      },
      "execution_count": 28,
      "outputs": [
        {
          "output_type": "stream",
          "name": "stdout",
          "text": [
            "Model: \"model_1\"\n",
            "__________________________________________________________________________________________________\n",
            " Layer (type)                   Output Shape         Param #     Connected to                     \n",
            "==================================================================================================\n",
            " input_2 (InputLayer)           [(None, 128, 1)]     0           []                               \n",
            "                                                                                                  \n",
            " conv1d_3 (Conv1D)              (None, 128, 128)     1152        ['input_2[0][0]']                \n",
            "                                                                                                  \n",
            " batch_normalization_3 (BatchNo  (None, 128, 128)    512         ['conv1d_3[0][0]']               \n",
            " rmalization)                                                                                     \n",
            "                                                                                                  \n",
            " activation_3 (Activation)      (None, 128, 128)     0           ['batch_normalization_3[0][0]']  \n",
            "                                                                                                  \n",
            " conv1d_4 (Conv1D)              (None, 128, 256)     164096      ['activation_3[0][0]']           \n",
            "                                                                                                  \n",
            " batch_normalization_4 (BatchNo  (None, 128, 256)    1024        ['conv1d_4[0][0]']               \n",
            " rmalization)                                                                                     \n",
            "                                                                                                  \n",
            " activation_4 (Activation)      (None, 128, 256)     0           ['batch_normalization_4[0][0]']  \n",
            "                                                                                                  \n",
            " conv1d_5 (Conv1D)              (None, 128, 128)     98432       ['activation_4[0][0]']           \n",
            "                                                                                                  \n",
            " masking_1 (Masking)            (None, 128, 1)       0           ['input_2[0][0]']                \n",
            "                                                                                                  \n",
            " batch_normalization_5 (BatchNo  (None, 128, 128)    512         ['conv1d_5[0][0]']               \n",
            " rmalization)                                                                                     \n",
            "                                                                                                  \n",
            " lstm_1 (LSTM)                  (None, 24)           2496        ['masking_1[0][0]']              \n",
            "                                                                                                  \n",
            " activation_5 (Activation)      (None, 128, 128)     0           ['batch_normalization_5[0][0]']  \n",
            "                                                                                                  \n",
            " dropout_1 (Dropout)            (None, 24)           0           ['lstm_1[0][0]']                 \n",
            "                                                                                                  \n",
            " global_average_pooling1d_1 (Gl  (None, 128)         0           ['activation_5[0][0]']           \n",
            " obalAveragePooling1D)                                                                            \n",
            "                                                                                                  \n",
            " concatenate_1 (Concatenate)    (None, 152)          0           ['dropout_1[0][0]',              \n",
            "                                                                  'global_average_pooling1d_1[0][0\n",
            "                                                                 ]']                              \n",
            "                                                                                                  \n",
            " dense_1 (Dense)                (None, 3)            459         ['concatenate_1[0][0]']          \n",
            "                                                                                                  \n",
            "==================================================================================================\n",
            "Total params: 268,683\n",
            "Trainable params: 267,659\n",
            "Non-trainable params: 1,024\n",
            "__________________________________________________________________________________________________\n",
            "Epoch 1/25\n",
            "1254/1254 - 32s - loss: 0.5348 - accuracy: 0.7693 - val_loss: 1.0900 - val_accuracy: 0.6987 - 32s/epoch - 26ms/step\n",
            "Epoch 2/25\n",
            "1254/1254 - 27s - loss: 0.4260 - accuracy: 0.8159 - val_loss: 0.7557 - val_accuracy: 0.6982 - 27s/epoch - 22ms/step\n",
            "Epoch 3/25\n",
            "1254/1254 - 27s - loss: 0.3842 - accuracy: 0.8343 - val_loss: 0.6054 - val_accuracy: 0.7550 - 27s/epoch - 22ms/step\n",
            "Epoch 4/25\n",
            "1254/1254 - 27s - loss: 0.3615 - accuracy: 0.8427 - val_loss: 24.9065 - val_accuracy: 0.2082 - 27s/epoch - 22ms/step\n",
            "Epoch 5/25\n",
            "1254/1254 - 28s - loss: 0.3495 - accuracy: 0.8477 - val_loss: 0.9941 - val_accuracy: 0.5879 - 28s/epoch - 22ms/step\n",
            "Epoch 6/25\n",
            "1254/1254 - 27s - loss: 0.3398 - accuracy: 0.8513 - val_loss: 4.1023 - val_accuracy: 0.2552 - 27s/epoch - 22ms/step\n",
            "Epoch 7/25\n",
            "1254/1254 - 27s - loss: 0.3329 - accuracy: 0.8546 - val_loss: 3.1499 - val_accuracy: 0.3476 - 27s/epoch - 22ms/step\n",
            "Epoch 8/25\n",
            "1254/1254 - 27s - loss: 0.3260 - accuracy: 0.8573 - val_loss: 4.1929 - val_accuracy: 0.2631 - 27s/epoch - 22ms/step\n",
            "Epoch 9/25\n",
            "1254/1254 - 27s - loss: 0.3203 - accuracy: 0.8599 - val_loss: 1.9508 - val_accuracy: 0.3849 - 27s/epoch - 22ms/step\n",
            "Epoch 10/25\n",
            "1254/1254 - 27s - loss: 0.3154 - accuracy: 0.8620 - val_loss: 9.5695 - val_accuracy: 0.2124 - 27s/epoch - 22ms/step\n",
            "Epoch 11/25\n",
            "1254/1254 - 27s - loss: 0.3108 - accuracy: 0.8642 - val_loss: 1.4165 - val_accuracy: 0.4737 - 27s/epoch - 21ms/step\n",
            "Epoch 12/25\n",
            "1254/1254 - 27s - loss: 0.3059 - accuracy: 0.8667 - val_loss: 29.3501 - val_accuracy: 0.2082 - 27s/epoch - 21ms/step\n",
            "Epoch 13/25\n",
            "1254/1254 - 28s - loss: 0.3013 - accuracy: 0.8686 - val_loss: 15.9950 - val_accuracy: 0.2088 - 28s/epoch - 22ms/step\n",
            "Epoch 14/25\n",
            "1254/1254 - 27s - loss: 0.2970 - accuracy: 0.8705 - val_loss: 3.2444 - val_accuracy: 0.2795 - 27s/epoch - 21ms/step\n",
            "Epoch 15/25\n",
            "1254/1254 - 27s - loss: 0.2924 - accuracy: 0.8726 - val_loss: 17.4964 - val_accuracy: 0.2082 - 27s/epoch - 22ms/step\n",
            "Epoch 16/25\n",
            "1254/1254 - 27s - loss: 0.2875 - accuracy: 0.8749 - val_loss: 2.9941 - val_accuracy: 0.3225 - 27s/epoch - 22ms/step\n",
            "Epoch 17/25\n",
            "1254/1254 - 27s - loss: 0.2832 - accuracy: 0.8767 - val_loss: 0.5966 - val_accuracy: 0.7727 - 27s/epoch - 22ms/step\n",
            "Epoch 18/25\n",
            "1254/1254 - 27s - loss: 0.2786 - accuracy: 0.8790 - val_loss: 2.0202 - val_accuracy: 0.6966 - 27s/epoch - 22ms/step\n",
            "Epoch 19/25\n",
            "1254/1254 - 27s - loss: 0.2737 - accuracy: 0.8817 - val_loss: 0.6776 - val_accuracy: 0.7555 - 27s/epoch - 22ms/step\n",
            "Epoch 20/25\n",
            "1254/1254 - 28s - loss: 0.2695 - accuracy: 0.8835 - val_loss: 10.1064 - val_accuracy: 0.2203 - 28s/epoch - 22ms/step\n",
            "Epoch 21/25\n",
            "1254/1254 - 27s - loss: 0.2648 - accuracy: 0.8858 - val_loss: 0.5991 - val_accuracy: 0.7677 - 27s/epoch - 22ms/step\n",
            "Epoch 22/25\n",
            "1254/1254 - 27s - loss: 0.2602 - accuracy: 0.8880 - val_loss: 11.3917 - val_accuracy: 0.2508 - 27s/epoch - 22ms/step\n",
            "Epoch 23/25\n",
            "1254/1254 - 29s - loss: 0.2553 - accuracy: 0.8901 - val_loss: 23.8458 - val_accuracy: 0.2085 - 29s/epoch - 23ms/step\n",
            "Epoch 24/25\n",
            "1254/1254 - 28s - loss: 0.2504 - accuracy: 0.8922 - val_loss: 0.7813 - val_accuracy: 0.7456 - 28s/epoch - 22ms/step\n",
            "Epoch 25/25\n",
            "1254/1254 - 27s - loss: 0.2456 - accuracy: 0.8947 - val_loss: 0.7521 - val_accuracy: 0.7389 - 27s/epoch - 22ms/step\n"
          ]
        }
      ]
    },
    {
      "cell_type": "code",
      "execution_count": 29,
      "metadata": {},
      "outputs": [
        {
          "output_type": "stream",
          "name": "stdout",
          "text": [
            "Loss: 0.7532576322555542, Accuracy: 0.7322344183921814\n"
          ]
        }
      ],
      "source": [
        "# Return loss value and metric value\n",
        "score = model.evaluate_generator(test_dataset, verbose=0)   \n",
        "print(\"Loss: {cce}, Accuracy: {acc}\".format(cce=score[0], acc=score[1]))"
      ]
    },
    {
      "cell_type": "code",
      "execution_count": 111,
      "metadata": {},
      "outputs": [
        {
          "output_type": "stream",
          "name": "stdout",
          "text": [
            "Unequal Shapes at Index 163 (If the index is large then it is the remainder of the set after batch processing)\n",
            "Target Shape: (5, 3) vs. Label Sequence Slice Shape: (128, 3)\n",
            "(20869, 3) (20869, 3)\n"
          ]
        }
      ],
      "source": [
        "predictions_array = model.predict(test_dataset, callbacks=tensorboard_callback)\n",
        "predictions_array = tf.one_hot(tf.argmax(predictions_array, axis=1), predictions_array.shape[1])\n",
        "predictions_array = np.array(predictions_array)\n",
        "\n",
        "verify_labels(test_dataset, testY, batch_size)\n",
        "\n",
        "y_true_df = pd.DataFrame()\n",
        "\n",
        "for batch in test_dataset:\n",
        "    inputs, targets = batch\n",
        "    temp = pd.DataFrame(targets[:].numpy())\n",
        "    y_true_df = pd.concat([y_true_df, temp])\n",
        "\n",
        "y_true = y_true_df.values\n",
        "y_true = np.array(y_true)\n",
        "\n",
        "print(y_true.shape, predictions_array.shape)\n"
      ]
    },
    {
      "cell_type": "code",
      "execution_count": 112,
      "metadata": {},
      "outputs": [
        {
          "output_type": "stream",
          "name": "stdout",
          "text": [
            "0    1    2  \n1.0  0.0  0.0    12024\n0.0  0.0  1.0     4559\n     1.0  0.0     4286\ndtype: int64\n0    1    2  \n1.0  0.0  0.0    10164\n0.0  0.0  1.0     5679\n     1.0  0.0     5026\ndtype: int64\nTotal Number of Correct Predictions 15 Minutes into the Future: 15281.0\nTotal Number of Incorrect Predictions 15 Minutes into the Future: 5588.0\n"
          ]
        }
      ],
      "source": [
        "pred_df = pd.DataFrame(predictions_array)\n",
        "y_true_df = pd.DataFrame(y_true)\n",
        "pred_df_counts = pred_df.value_counts(dropna=True)\n",
        "y_true_df_counts = y_true_df.value_counts(dropna=True)\n",
        "print(y_true_df_counts)\n",
        "print(pred_df_counts)\n",
        "total_cor_pred = (y_true * predictions_array).sum() \n",
        "print(f\"Total Number of Correct Predictions 15 Minutes into the Future: {cor_pred}\")\n",
        "print(f\"Total Number of Incorrect Predictions 15 Minutes into the Future: {y_true.shape[0] - cor_pred}\")"
      ]
    },
    {
      "source": [
        "[0, 0, 1] is sell\n",
        "[0, 1, 0] is buy\n",
        "[1, 0, 0] is expire"
      ],
      "cell_type": "markdown",
      "metadata": {}
    },
    {
      "cell_type": "code",
      "execution_count": 126,
      "metadata": {},
      "outputs": [],
      "source": [
        "y_true = pd.get_dummies(y_true_df).idxmax(1)\n",
        "y_pred = pd.get_dummies(pred_df).idxmax(1)\n",
        "\n",
        "cm = ConfusionMatrix(actual_vector=y_true.values, predict_vector=y_pred.values)"
      ]
    },
    {
      "cell_type": "code",
      "execution_count": 128,
      "metadata": {},
      "outputs": [
        {
          "output_type": "stream",
          "name": "stdout",
          "text": [
            "Predict    0          1          2          \nActual\n0          8329       1805       1890       \n\n1          1057       3196       33         \n\n2          778        25         3756       \n\n\n\n\n\nOverall Statistics : \n\n95% CI                                                            (0.72623,0.73824)\nACC Macro                                                         0.82149\nARI                                                               0.3294\nAUNP                                                              0.78214\nAUNU                                                              0.80442\nBangdiwala B                                                      0.5523\nBennett S                                                         0.59835\nCBA                                                               0.66333\nCSI                                                               0.45966\nChi-Squared                                                       15270.06277\nChi-Squared DF                                                    4\nConditional Entropy                                               1.02243\nCramer V                                                          0.60486\nCross Entropy                                                     1.43\nF1 Macro                                                          0.72364\nF1 Micro                                                          0.73223\nFNR Macro                                                         0.24592\nFNR Micro                                                         0.26777\nFPR Macro                                                         0.14524\nFPR Micro                                                         0.13388\nGwet AC1                                                          0.61543\nHamming Loss                                                      0.26777\nJoint Entropy                                                     2.42917\nKL Divergence                                                     0.02327\nKappa                                                             0.56138\nKappa 95% CI                                                      (0.55154,0.57122)\nKappa No Prevalence                                               0.46447\nKappa Standard Error                                              0.00502\nKappa Unbiased                                                    0.5592\nKrippendorff Alpha                                                0.55921\nLambda A                                                          0.36823\nLambda B                                                          0.478\nMutual Information                                                0.48867\nNIR                                                               0.57617\nOverall ACC                                                       0.73223\nOverall CEN                                                       0.4518\nOverall J                                                         (1.703,0.56767)\nOverall MCC                                                       0.56753\nOverall MCEN                                                      0.57435\nOverall RACC                                                      0.38952\nOverall RACCU                                                     0.39255\nP-Value                                                           None\nPPV Macro                                                         0.70558\nPPV Micro                                                         0.73223\nPearson C                                                         0.65003\nPhi-Squared                                                       0.73171\nRCI                                                               0.34738\nRR                                                                6956.33333\nReference Entropy                                                 1.40674\nResponse Entropy                                                  1.5111\nSOA1(Landis & Koch)                                               Moderate\nSOA2(Fleiss)                                                      Intermediate to Good\nSOA3(Altman)                                                      Moderate\nSOA4(Cicchetti)                                                   Fair\nSOA5(Cramer)                                                      Strong\nSOA6(Matthews)                                                    Moderate\nScott PI                                                          0.5592\nStandard Error                                                    0.00307\nTNR Macro                                                         0.85476\nTNR Micro                                                         0.86612\nTPR Macro                                                         0.75408\nTPR Micro                                                         0.73223\nZero-one Loss                                                     5588\n\nClass Statistics :\n\nClasses                                                           0             1             2             \nACC(Accuracy)                                                     0.73501       0.86008       0.86938       \nAGF(Adjusted F-score)                                             0.69637       0.81547       0.85613       \nAGM(Adjusted geometric mean)                                      0.7563        0.84777       0.86547       \nAM(Difference between automatic and manual classification)        -1860         740           1120          \nAUC(Area under the ROC curve)                                     0.74262       0.81766       0.85298       \nAUCI(AUC value interpretation)                                    Good          Very Good     Very Good     \nAUPR(Area under the PR curve)                                     0.75608       0.69079       0.74262       \nBCD(Bray-Curtis dissimilarity)                                    0.04456       0.01773       0.02683       \nBM(Informedness or bookmaker informedness)                        0.48524       0.63533       0.70596       \nCEN(Confusion entropy)                                            0.48793       0.43346       0.39019       \nDOR(Diagnostic odds ratio)                                        8.61113       23.63793      34.9946       \nDP(Discriminant power)                                            0.51553       0.75731       0.85125       \nDPI(Discriminant power interpretation)                            Poor          Poor          Poor          \nERR(Error rate)                                                   0.26499       0.13992       0.13062       \nF0.5(F0.5 score)                                                  0.79053       0.65519       0.68854       \nF1(F1 score - harmonic mean of precision and sensitivity)         0.75077       0.68643       0.73374       \nF2(F2 score)                                                      0.71481       0.72079       0.78528       \nFDR(False discovery rate)                                         0.18054       0.36411       0.33862       \nFN(False negative/miss/type 2 error)                              3695          1090          803           \nFNR(Miss rate or false negative rate)                             0.3073        0.25432       0.17614       \nFOR(False omission rate)                                          0.34517       0.0688        0.05286       \nFP(False positive/type 1 error/false alarm)                       1835          1830          1923          \nFPR(Fall-out or false positive rate)                              0.20746       0.11035       0.1179        \nG(G-measure geometric mean of precision and sensitivity)          0.75342       0.6886        0.73817       \nGI(Gini index)                                                    0.48524       0.63533       0.70596       \nGM(G-mean geometric mean of specificity and sensitivity)          0.74094       0.81449       0.85248       \nIBA(Index of balanced accuracy)                                   0.49418       0.56789       0.68441       \nICSI(Individual classification success index)                     0.51216       0.38158       0.48525       \nIS(Information score)                                             0.50819       1.63051       1.59813       \nJ(Jaccard index)                                                  0.60098       0.52256       0.57945       \nLS(Lift score)                                                    1.42227       3.09623       3.02751       \nMCC(Matthews correlation coefficient)                             0.47973       0.60024       0.65543       \nMCCI(Matthews correlation coefficient interpretation)             Weak          Moderate      Moderate      \nMCEN(Modified confusion entropy)                                  0.6457        0.51519       0.47763       \nMK(Markedness)                                                    0.4743        0.56709       0.60852       \nN(Condition negative)                                             8845          16583         16310         \nNLR(Negative likelihood ratio)                                    0.38774       0.28586       0.19968       \nNLRI(Negative likelihood ratio interpretation)                    Poor          Poor          Fair          \nNPV(Negative predictive value)                                    0.65483       0.9312        0.94714       \nOC(Overlap coefficient)                                           0.81946       0.74568       0.82386       \nOOC(Otsuka-Ochiai coefficient)                                    0.75342       0.6886        0.73817       \nOP(Optimized precision)                                           0.66779       0.77205       0.83524       \nP(Condition positive or support)                                  12024         4286          4559          \nPLR(Positive likelihood ratio)                                    3.33892       6.7572        6.98764       \nPLRI(Positive likelihood ratio interpretation)                    Poor          Fair          Fair          \nPOP(Population)                                                   20869         20869         20869         \nPPV(Precision or positive predictive value)                       0.81946       0.63589       0.66138       \nPRE(Prevalence)                                                   0.57617       0.20538       0.21846       \nQ(Yule Q - coefficient of colligation)                            0.79191       0.91882       0.94444       \nQI(Yule Q interpretation)                                         Strong        Strong        Strong        \nRACC(Random accuracy)                                             0.28061       0.04946       0.05945       \nRACCU(Random accuracy unbiased)                                   0.2826        0.04978       0.06017       \nTN(True negative/correct rejection)                               7010          14753         14387         \nTNR(Specificity or true negative rate)                            0.79254       0.88965       0.8821        \nTON(Test outcome negative)                                        10705         15843         15190         \nTOP(Test outcome positive)                                        10164         5026          5679          \nTP(True positive/hit)                                             8329          3196          3756          \nTPR(Sensitivity, recall, hit rate, or true positive rate)         0.6927        0.74568       0.82386       \nY(Youden index)                                                   0.48524       0.63533       0.70596       \ndInd(Distance index)                                              0.37078       0.27723       0.21195       \nsInd(Similarity index)                                            0.73782       0.80397       0.85013       \n\n"
          ]
        }
      ],
      "source": [
        "print(cm)"
      ]
    },
    {
      "cell_type": "code",
      "execution_count": 135,
      "metadata": {},
      "outputs": [
        {
          "output_type": "execute_result",
          "data": {
            "text/plain": [
              "<AxesSubplot:title={'center':'Confusion Matrix (Normalized)'}, xlabel='Predicted Classes', ylabel='Actual Classes'>"
            ]
          },
          "metadata": {},
          "execution_count": 135
        },
        {
          "output_type": "display_data",
          "data": {
            "text/plain": "<Figure size 432x288 with 2 Axes>",
            "image/svg+xml": "<?xml version=\"1.0\" encoding=\"utf-8\" standalone=\"no\"?>\n<!DOCTYPE svg PUBLIC \"-//W3C//DTD SVG 1.1//EN\"\n  \"http://www.w3.org/Graphics/SVG/1.1/DTD/svg11.dtd\">\n<svg xmlns:xlink=\"http://www.w3.org/1999/xlink\" width=\"309.39575pt\" height=\"277.314375pt\" viewBox=\"0 0 309.39575 277.314375\" xmlns=\"http://www.w3.org/2000/svg\" version=\"1.1\">\n <metadata>\n  <rdf:RDF xmlns:dc=\"http://purl.org/dc/elements/1.1/\" xmlns:cc=\"http://creativecommons.org/ns#\" xmlns:rdf=\"http://www.w3.org/1999/02/22-rdf-syntax-ns#\">\n   <cc:Work>\n    <dc:type rdf:resource=\"http://purl.org/dc/dcmitype/StillImage\"/>\n    <dc:date>2022-03-03T13:47:39.963533</dc:date>\n    <dc:format>image/svg+xml</dc:format>\n    <dc:creator>\n     <cc:Agent>\n      <dc:title>Matplotlib v3.5.1, https://matplotlib.org/</dc:title>\n     </cc:Agent>\n    </dc:creator>\n   </cc:Work>\n  </rdf:RDF>\n </metadata>\n <defs>\n  <style type=\"text/css\">*{stroke-linejoin: round; stroke-linecap: butt}</style>\n </defs>\n <g id=\"figure_1\">\n  <g id=\"patch_1\">\n   <path d=\"M 0 277.314375 \nL 309.39575 277.314375 \nL 309.39575 0 \nL 0 0 \nL 0 277.314375 \nz\n\" style=\"fill: none\"/>\n  </g>\n  <g id=\"axes_1\">\n   <g id=\"patch_2\">\n    <path d=\"M 34.240625 239.758125 \nL 251.680625 239.758125 \nL 251.680625 22.318125 \nL 34.240625 22.318125 \nz\n\" style=\"fill: #ffffff\"/>\n   </g>\n   <g clip-path=\"url(#p0ce1946cab)\">\n    <image xlink:href=\"data:image/png;base64,\niVBORw0KGgoAAAANSUhEUgAAANoAAADaCAYAAADAHVzbAAACxElEQVR4nO3VsTEEYBhF0V1kIpFkS1CCSAFakKrIqEC6iVy8PWxGCzKsCqT3+2ecU8FL7rzt1+H1tOFP5ze30xOW93i5m56wvLPpAfAfCA0CQoOA0CAgNAgIDQJCg4DQICA0CAgNAkKDgNAgIDQICA0CQoOA0CAgNAgIDQJCg4DQICA0CAgNAkKDgNAgIDQICA0CQoOA0CAgNAgIDQJCg4DQICA0CAgNAkKDgNAgIDQICA0CQoOA0CAgNAgIDQJCg4DQICA0CAgNAkKDgNAgIDQICA0CQoOA0CAgNAgIDQJCg4DQICA0CAgNAkKDgNAgIDQICA0CQoOA0CAgNAgIDQJCg4DQICA0CAgNAkKDgNAgcLF5P05vWNrT3cP0hOU9f35MT1ieR4OA0CAgNAgIDQJCg4DQICA0CAgNAkKDgNAgIDQICA0CQoOA0CAgNAgIDQJCg4DQICA0CAgNAkKDgNAgIDQICA0CQoOA0CAgNAgIDQJCg4DQICA0CAgNAkKDgNAgIDQICA0CQoOA0CAgNAgIDQJCg4DQICA0CAgNAkKDgNAgIDQICA0CQoOA0CAgNAgIDQJCg4DQICA0CAgNAkKDgNAgIDQICA0CQoOA0CAgNAgIDQJCg4DQICA0CAgNAkKDgNAgIDQIbPdX16fpESu7f3uZnrC+n+/pBcvzaBAQGgSEBgGhQUBoEBAaBIQGAaFBQGgQEBoEhAYBoUFAaBAQGgSEBgGhQUBoEBAaBIQGAaFBQGgQEBoEhAYBoUFAaBAQGgSEBgGhQUBoEBAaBIQGAaFBQGgQEBoEhAYBoUFAaBAQGgSEBgGhQUBoEBAaBIQGAaFBQGgQEBoEhAYBoUFAaBAQGgSEBgGhQUBoEBAaBIQGAaFBQGgQEBoEhAYBoUFAaBAQGgSEBgGhQUBoEBAaBIQGAaFBQGgQEBoEhAYBoUHgF5i7ERIj93eFAAAAAElFTkSuQmCC\" id=\"image5c67b674ed\" transform=\"scale(1 -1)translate(0 -218)\" x=\"34.240625\" y=\"-21.758125\" width=\"218\" height=\"218\"/>\n   </g>\n   <g id=\"matplotlib.axis_1\">\n    <g id=\"xtick_1\">\n     <g id=\"line2d_1\">\n      <defs>\n       <path id=\"me160ca8cb9\" d=\"M 0 0 \nL 0 3.5 \n\" style=\"stroke: #000000; stroke-width: 0.8\"/>\n      </defs>\n      <g>\n       <use xlink:href=\"#me160ca8cb9\" x=\"70.480625\" y=\"239.758125\" style=\"stroke: #000000; stroke-width: 0.8\"/>\n      </g>\n     </g>\n     <g id=\"text_1\">\n      <!-- 0 -->\n      <g transform=\"translate(67.299375 254.356562)scale(0.1 -0.1)\">\n       <defs>\n        <path id=\"DejaVuSans-30\" d=\"M 2034 4250 \nQ 1547 4250 1301 3770 \nQ 1056 3291 1056 2328 \nQ 1056 1369 1301 889 \nQ 1547 409 2034 409 \nQ 2525 409 2770 889 \nQ 3016 1369 3016 2328 \nQ 3016 3291 2770 3770 \nQ 2525 4250 2034 4250 \nz\nM 2034 4750 \nQ 2819 4750 3233 4129 \nQ 3647 3509 3647 2328 \nQ 3647 1150 3233 529 \nQ 2819 -91 2034 -91 \nQ 1250 -91 836 529 \nQ 422 1150 422 2328 \nQ 422 3509 836 4129 \nQ 1250 4750 2034 4750 \nz\n\" transform=\"scale(0.015625)\"/>\n       </defs>\n       <use xlink:href=\"#DejaVuSans-30\"/>\n      </g>\n     </g>\n    </g>\n    <g id=\"xtick_2\">\n     <g id=\"line2d_2\">\n      <g>\n       <use xlink:href=\"#me160ca8cb9\" x=\"142.960625\" y=\"239.758125\" style=\"stroke: #000000; stroke-width: 0.8\"/>\n      </g>\n     </g>\n     <g id=\"text_2\">\n      <!-- 1 -->\n      <g transform=\"translate(139.779375 254.356562)scale(0.1 -0.1)\">\n       <defs>\n        <path id=\"DejaVuSans-31\" d=\"M 794 531 \nL 1825 531 \nL 1825 4091 \nL 703 3866 \nL 703 4441 \nL 1819 4666 \nL 2450 4666 \nL 2450 531 \nL 3481 531 \nL 3481 0 \nL 794 0 \nL 794 531 \nz\n\" transform=\"scale(0.015625)\"/>\n       </defs>\n       <use xlink:href=\"#DejaVuSans-31\"/>\n      </g>\n     </g>\n    </g>\n    <g id=\"xtick_3\">\n     <g id=\"line2d_3\">\n      <g>\n       <use xlink:href=\"#me160ca8cb9\" x=\"215.440625\" y=\"239.758125\" style=\"stroke: #000000; stroke-width: 0.8\"/>\n      </g>\n     </g>\n     <g id=\"text_3\">\n      <!-- 2 -->\n      <g transform=\"translate(212.259375 254.356562)scale(0.1 -0.1)\">\n       <defs>\n        <path id=\"DejaVuSans-32\" d=\"M 1228 531 \nL 3431 531 \nL 3431 0 \nL 469 0 \nL 469 531 \nQ 828 903 1448 1529 \nQ 2069 2156 2228 2338 \nQ 2531 2678 2651 2914 \nQ 2772 3150 2772 3378 \nQ 2772 3750 2511 3984 \nQ 2250 4219 1831 4219 \nQ 1534 4219 1204 4116 \nQ 875 4013 500 3803 \nL 500 4441 \nQ 881 4594 1212 4672 \nQ 1544 4750 1819 4750 \nQ 2544 4750 2975 4387 \nQ 3406 4025 3406 3419 \nQ 3406 3131 3298 2873 \nQ 3191 2616 2906 2266 \nQ 2828 2175 2409 1742 \nQ 1991 1309 1228 531 \nz\n\" transform=\"scale(0.015625)\"/>\n       </defs>\n       <use xlink:href=\"#DejaVuSans-32\"/>\n      </g>\n     </g>\n    </g>\n    <g id=\"text_4\">\n     <!-- Predicted Classes -->\n     <g transform=\"translate(99.066094 268.034687)scale(0.1 -0.1)\">\n      <defs>\n       <path id=\"DejaVuSans-50\" d=\"M 1259 4147 \nL 1259 2394 \nL 2053 2394 \nQ 2494 2394 2734 2622 \nQ 2975 2850 2975 3272 \nQ 2975 3691 2734 3919 \nQ 2494 4147 2053 4147 \nL 1259 4147 \nz\nM 628 4666 \nL 2053 4666 \nQ 2838 4666 3239 4311 \nQ 3641 3956 3641 3272 \nQ 3641 2581 3239 2228 \nQ 2838 1875 2053 1875 \nL 1259 1875 \nL 1259 0 \nL 628 0 \nL 628 4666 \nz\n\" transform=\"scale(0.015625)\"/>\n       <path id=\"DejaVuSans-72\" d=\"M 2631 2963 \nQ 2534 3019 2420 3045 \nQ 2306 3072 2169 3072 \nQ 1681 3072 1420 2755 \nQ 1159 2438 1159 1844 \nL 1159 0 \nL 581 0 \nL 581 3500 \nL 1159 3500 \nL 1159 2956 \nQ 1341 3275 1631 3429 \nQ 1922 3584 2338 3584 \nQ 2397 3584 2469 3576 \nQ 2541 3569 2628 3553 \nL 2631 2963 \nz\n\" transform=\"scale(0.015625)\"/>\n       <path id=\"DejaVuSans-65\" d=\"M 3597 1894 \nL 3597 1613 \nL 953 1613 \nQ 991 1019 1311 708 \nQ 1631 397 2203 397 \nQ 2534 397 2845 478 \nQ 3156 559 3463 722 \nL 3463 178 \nQ 3153 47 2828 -22 \nQ 2503 -91 2169 -91 \nQ 1331 -91 842 396 \nQ 353 884 353 1716 \nQ 353 2575 817 3079 \nQ 1281 3584 2069 3584 \nQ 2775 3584 3186 3129 \nQ 3597 2675 3597 1894 \nz\nM 3022 2063 \nQ 3016 2534 2758 2815 \nQ 2500 3097 2075 3097 \nQ 1594 3097 1305 2825 \nQ 1016 2553 972 2059 \nL 3022 2063 \nz\n\" transform=\"scale(0.015625)\"/>\n       <path id=\"DejaVuSans-64\" d=\"M 2906 2969 \nL 2906 4863 \nL 3481 4863 \nL 3481 0 \nL 2906 0 \nL 2906 525 \nQ 2725 213 2448 61 \nQ 2172 -91 1784 -91 \nQ 1150 -91 751 415 \nQ 353 922 353 1747 \nQ 353 2572 751 3078 \nQ 1150 3584 1784 3584 \nQ 2172 3584 2448 3432 \nQ 2725 3281 2906 2969 \nz\nM 947 1747 \nQ 947 1113 1208 752 \nQ 1469 391 1925 391 \nQ 2381 391 2643 752 \nQ 2906 1113 2906 1747 \nQ 2906 2381 2643 2742 \nQ 2381 3103 1925 3103 \nQ 1469 3103 1208 2742 \nQ 947 2381 947 1747 \nz\n\" transform=\"scale(0.015625)\"/>\n       <path id=\"DejaVuSans-69\" d=\"M 603 3500 \nL 1178 3500 \nL 1178 0 \nL 603 0 \nL 603 3500 \nz\nM 603 4863 \nL 1178 4863 \nL 1178 4134 \nL 603 4134 \nL 603 4863 \nz\n\" transform=\"scale(0.015625)\"/>\n       <path id=\"DejaVuSans-63\" d=\"M 3122 3366 \nL 3122 2828 \nQ 2878 2963 2633 3030 \nQ 2388 3097 2138 3097 \nQ 1578 3097 1268 2742 \nQ 959 2388 959 1747 \nQ 959 1106 1268 751 \nQ 1578 397 2138 397 \nQ 2388 397 2633 464 \nQ 2878 531 3122 666 \nL 3122 134 \nQ 2881 22 2623 -34 \nQ 2366 -91 2075 -91 \nQ 1284 -91 818 406 \nQ 353 903 353 1747 \nQ 353 2603 823 3093 \nQ 1294 3584 2113 3584 \nQ 2378 3584 2631 3529 \nQ 2884 3475 3122 3366 \nz\n\" transform=\"scale(0.015625)\"/>\n       <path id=\"DejaVuSans-74\" d=\"M 1172 4494 \nL 1172 3500 \nL 2356 3500 \nL 2356 3053 \nL 1172 3053 \nL 1172 1153 \nQ 1172 725 1289 603 \nQ 1406 481 1766 481 \nL 2356 481 \nL 2356 0 \nL 1766 0 \nQ 1100 0 847 248 \nQ 594 497 594 1153 \nL 594 3053 \nL 172 3053 \nL 172 3500 \nL 594 3500 \nL 594 4494 \nL 1172 4494 \nz\n\" transform=\"scale(0.015625)\"/>\n       <path id=\"DejaVuSans-20\" transform=\"scale(0.015625)\"/>\n       <path id=\"DejaVuSans-43\" d=\"M 4122 4306 \nL 4122 3641 \nQ 3803 3938 3442 4084 \nQ 3081 4231 2675 4231 \nQ 1875 4231 1450 3742 \nQ 1025 3253 1025 2328 \nQ 1025 1406 1450 917 \nQ 1875 428 2675 428 \nQ 3081 428 3442 575 \nQ 3803 722 4122 1019 \nL 4122 359 \nQ 3791 134 3420 21 \nQ 3050 -91 2638 -91 \nQ 1578 -91 968 557 \nQ 359 1206 359 2328 \nQ 359 3453 968 4101 \nQ 1578 4750 2638 4750 \nQ 3056 4750 3426 4639 \nQ 3797 4528 4122 4306 \nz\n\" transform=\"scale(0.015625)\"/>\n       <path id=\"DejaVuSans-6c\" d=\"M 603 4863 \nL 1178 4863 \nL 1178 0 \nL 603 0 \nL 603 4863 \nz\n\" transform=\"scale(0.015625)\"/>\n       <path id=\"DejaVuSans-61\" d=\"M 2194 1759 \nQ 1497 1759 1228 1600 \nQ 959 1441 959 1056 \nQ 959 750 1161 570 \nQ 1363 391 1709 391 \nQ 2188 391 2477 730 \nQ 2766 1069 2766 1631 \nL 2766 1759 \nL 2194 1759 \nz\nM 3341 1997 \nL 3341 0 \nL 2766 0 \nL 2766 531 \nQ 2569 213 2275 61 \nQ 1981 -91 1556 -91 \nQ 1019 -91 701 211 \nQ 384 513 384 1019 \nQ 384 1609 779 1909 \nQ 1175 2209 1959 2209 \nL 2766 2209 \nL 2766 2266 \nQ 2766 2663 2505 2880 \nQ 2244 3097 1772 3097 \nQ 1472 3097 1187 3025 \nQ 903 2953 641 2809 \nL 641 3341 \nQ 956 3463 1253 3523 \nQ 1550 3584 1831 3584 \nQ 2591 3584 2966 3190 \nQ 3341 2797 3341 1997 \nz\n\" transform=\"scale(0.015625)\"/>\n       <path id=\"DejaVuSans-73\" d=\"M 2834 3397 \nL 2834 2853 \nQ 2591 2978 2328 3040 \nQ 2066 3103 1784 3103 \nQ 1356 3103 1142 2972 \nQ 928 2841 928 2578 \nQ 928 2378 1081 2264 \nQ 1234 2150 1697 2047 \nL 1894 2003 \nQ 2506 1872 2764 1633 \nQ 3022 1394 3022 966 \nQ 3022 478 2636 193 \nQ 2250 -91 1575 -91 \nQ 1294 -91 989 -36 \nQ 684 19 347 128 \nL 347 722 \nQ 666 556 975 473 \nQ 1284 391 1588 391 \nQ 1994 391 2212 530 \nQ 2431 669 2431 922 \nQ 2431 1156 2273 1281 \nQ 2116 1406 1581 1522 \nL 1381 1569 \nQ 847 1681 609 1914 \nQ 372 2147 372 2553 \nQ 372 3047 722 3315 \nQ 1072 3584 1716 3584 \nQ 2034 3584 2315 3537 \nQ 2597 3491 2834 3397 \nz\n\" transform=\"scale(0.015625)\"/>\n      </defs>\n      <use xlink:href=\"#DejaVuSans-50\"/>\n      <use xlink:href=\"#DejaVuSans-72\" x=\"58.552734\"/>\n      <use xlink:href=\"#DejaVuSans-65\" x=\"97.416016\"/>\n      <use xlink:href=\"#DejaVuSans-64\" x=\"158.939453\"/>\n      <use xlink:href=\"#DejaVuSans-69\" x=\"222.416016\"/>\n      <use xlink:href=\"#DejaVuSans-63\" x=\"250.199219\"/>\n      <use xlink:href=\"#DejaVuSans-74\" x=\"305.179688\"/>\n      <use xlink:href=\"#DejaVuSans-65\" x=\"344.388672\"/>\n      <use xlink:href=\"#DejaVuSans-64\" x=\"405.912109\"/>\n      <use xlink:href=\"#DejaVuSans-20\" x=\"469.388672\"/>\n      <use xlink:href=\"#DejaVuSans-43\" x=\"501.175781\"/>\n      <use xlink:href=\"#DejaVuSans-6c\" x=\"571\"/>\n      <use xlink:href=\"#DejaVuSans-61\" x=\"598.783203\"/>\n      <use xlink:href=\"#DejaVuSans-73\" x=\"660.0625\"/>\n      <use xlink:href=\"#DejaVuSans-73\" x=\"712.162109\"/>\n      <use xlink:href=\"#DejaVuSans-65\" x=\"764.261719\"/>\n      <use xlink:href=\"#DejaVuSans-73\" x=\"825.785156\"/>\n     </g>\n    </g>\n   </g>\n   <g id=\"matplotlib.axis_2\">\n    <g id=\"ytick_1\">\n     <g id=\"line2d_4\">\n      <defs>\n       <path id=\"m16726f1bc7\" d=\"M 0 0 \nL -3.5 0 \n\" style=\"stroke: #000000; stroke-width: 0.8\"/>\n      </defs>\n      <g>\n       <use xlink:href=\"#m16726f1bc7\" x=\"34.240625\" y=\"58.558125\" style=\"stroke: #000000; stroke-width: 0.8\"/>\n      </g>\n     </g>\n     <g id=\"text_5\">\n      <!-- 0 -->\n      <g transform=\"translate(20.878125 62.357344)scale(0.1 -0.1)\">\n       <use xlink:href=\"#DejaVuSans-30\"/>\n      </g>\n     </g>\n    </g>\n    <g id=\"ytick_2\">\n     <g id=\"line2d_5\">\n      <g>\n       <use xlink:href=\"#m16726f1bc7\" x=\"34.240625\" y=\"131.038125\" style=\"stroke: #000000; stroke-width: 0.8\"/>\n      </g>\n     </g>\n     <g id=\"text_6\">\n      <!-- 1 -->\n      <g transform=\"translate(20.878125 134.837344)scale(0.1 -0.1)\">\n       <use xlink:href=\"#DejaVuSans-31\"/>\n      </g>\n     </g>\n    </g>\n    <g id=\"ytick_3\">\n     <g id=\"line2d_6\">\n      <g>\n       <use xlink:href=\"#m16726f1bc7\" x=\"34.240625\" y=\"203.518125\" style=\"stroke: #000000; stroke-width: 0.8\"/>\n      </g>\n     </g>\n     <g id=\"text_7\">\n      <!-- 2 -->\n      <g transform=\"translate(20.878125 207.317344)scale(0.1 -0.1)\">\n       <use xlink:href=\"#DejaVuSans-32\"/>\n      </g>\n     </g>\n    </g>\n    <g id=\"text_8\">\n     <!-- Actual Classes -->\n     <g transform=\"translate(14.798437 167.126406)rotate(-90)scale(0.1 -0.1)\">\n      <defs>\n       <path id=\"DejaVuSans-41\" d=\"M 2188 4044 \nL 1331 1722 \nL 3047 1722 \nL 2188 4044 \nz\nM 1831 4666 \nL 2547 4666 \nL 4325 0 \nL 3669 0 \nL 3244 1197 \nL 1141 1197 \nL 716 0 \nL 50 0 \nL 1831 4666 \nz\n\" transform=\"scale(0.015625)\"/>\n       <path id=\"DejaVuSans-75\" d=\"M 544 1381 \nL 544 3500 \nL 1119 3500 \nL 1119 1403 \nQ 1119 906 1312 657 \nQ 1506 409 1894 409 \nQ 2359 409 2629 706 \nQ 2900 1003 2900 1516 \nL 2900 3500 \nL 3475 3500 \nL 3475 0 \nL 2900 0 \nL 2900 538 \nQ 2691 219 2414 64 \nQ 2138 -91 1772 -91 \nQ 1169 -91 856 284 \nQ 544 659 544 1381 \nz\nM 1991 3584 \nL 1991 3584 \nz\n\" transform=\"scale(0.015625)\"/>\n      </defs>\n      <use xlink:href=\"#DejaVuSans-41\"/>\n      <use xlink:href=\"#DejaVuSans-63\" x=\"66.658203\"/>\n      <use xlink:href=\"#DejaVuSans-74\" x=\"121.638672\"/>\n      <use xlink:href=\"#DejaVuSans-75\" x=\"160.847656\"/>\n      <use xlink:href=\"#DejaVuSans-61\" x=\"224.226562\"/>\n      <use xlink:href=\"#DejaVuSans-6c\" x=\"285.505859\"/>\n      <use xlink:href=\"#DejaVuSans-20\" x=\"313.289062\"/>\n      <use xlink:href=\"#DejaVuSans-43\" x=\"345.076172\"/>\n      <use xlink:href=\"#DejaVuSans-6c\" x=\"414.900391\"/>\n      <use xlink:href=\"#DejaVuSans-61\" x=\"442.683594\"/>\n      <use xlink:href=\"#DejaVuSans-73\" x=\"503.962891\"/>\n      <use xlink:href=\"#DejaVuSans-73\" x=\"556.0625\"/>\n      <use xlink:href=\"#DejaVuSans-65\" x=\"608.162109\"/>\n      <use xlink:href=\"#DejaVuSans-73\" x=\"669.685547\"/>\n     </g>\n    </g>\n   </g>\n   <g id=\"patch_3\">\n    <path d=\"M 34.240625 239.758125 \nL 34.240625 22.318125 \n\" style=\"fill: none; stroke: #000000; stroke-width: 0.8; stroke-linejoin: miter; stroke-linecap: square\"/>\n   </g>\n   <g id=\"patch_4\">\n    <path d=\"M 251.680625 239.758125 \nL 251.680625 22.318125 \n\" style=\"fill: none; stroke: #000000; stroke-width: 0.8; stroke-linejoin: miter; stroke-linecap: square\"/>\n   </g>\n   <g id=\"patch_5\">\n    <path d=\"M 34.240625 239.758125 \nL 251.680625 239.758125 \n\" style=\"fill: none; stroke: #000000; stroke-width: 0.8; stroke-linejoin: miter; stroke-linecap: square\"/>\n   </g>\n   <g id=\"patch_6\">\n    <path d=\"M 34.240625 22.318125 \nL 251.680625 22.318125 \n\" style=\"fill: none; stroke: #000000; stroke-width: 0.8; stroke-linejoin: miter; stroke-linecap: square\"/>\n   </g>\n   <g id=\"text_9\">\n    <!-- 0.6927 -->\n    <g style=\"fill: #fff5f0\" transform=\"translate(52.985312 61.3175)scale(0.1 -0.1)\">\n     <defs>\n      <path id=\"DejaVuSans-2e\" d=\"M 684 794 \nL 1344 794 \nL 1344 0 \nL 684 0 \nL 684 794 \nz\n\" transform=\"scale(0.015625)\"/>\n      <path id=\"DejaVuSans-36\" d=\"M 2113 2584 \nQ 1688 2584 1439 2293 \nQ 1191 2003 1191 1497 \nQ 1191 994 1439 701 \nQ 1688 409 2113 409 \nQ 2538 409 2786 701 \nQ 3034 994 3034 1497 \nQ 3034 2003 2786 2293 \nQ 2538 2584 2113 2584 \nz\nM 3366 4563 \nL 3366 3988 \nQ 3128 4100 2886 4159 \nQ 2644 4219 2406 4219 \nQ 1781 4219 1451 3797 \nQ 1122 3375 1075 2522 \nQ 1259 2794 1537 2939 \nQ 1816 3084 2150 3084 \nQ 2853 3084 3261 2657 \nQ 3669 2231 3669 1497 \nQ 3669 778 3244 343 \nQ 2819 -91 2113 -91 \nQ 1303 -91 875 529 \nQ 447 1150 447 2328 \nQ 447 3434 972 4092 \nQ 1497 4750 2381 4750 \nQ 2619 4750 2861 4703 \nQ 3103 4656 3366 4563 \nz\n\" transform=\"scale(0.015625)\"/>\n      <path id=\"DejaVuSans-39\" d=\"M 703 97 \nL 703 672 \nQ 941 559 1184 500 \nQ 1428 441 1663 441 \nQ 2288 441 2617 861 \nQ 2947 1281 2994 2138 \nQ 2813 1869 2534 1725 \nQ 2256 1581 1919 1581 \nQ 1219 1581 811 2004 \nQ 403 2428 403 3163 \nQ 403 3881 828 4315 \nQ 1253 4750 1959 4750 \nQ 2769 4750 3195 4129 \nQ 3622 3509 3622 2328 \nQ 3622 1225 3098 567 \nQ 2575 -91 1691 -91 \nQ 1453 -91 1209 -44 \nQ 966 3 703 97 \nz\nM 1959 2075 \nQ 2384 2075 2632 2365 \nQ 2881 2656 2881 3163 \nQ 2881 3666 2632 3958 \nQ 2384 4250 1959 4250 \nQ 1534 4250 1286 3958 \nQ 1038 3666 1038 3163 \nQ 1038 2656 1286 2365 \nQ 1534 2075 1959 2075 \nz\n\" transform=\"scale(0.015625)\"/>\n      <path id=\"DejaVuSans-37\" d=\"M 525 4666 \nL 3525 4666 \nL 3525 4397 \nL 1831 0 \nL 1172 0 \nL 2766 4134 \nL 525 4134 \nL 525 4666 \nz\n\" transform=\"scale(0.015625)\"/>\n     </defs>\n     <use xlink:href=\"#DejaVuSans-30\"/>\n     <use xlink:href=\"#DejaVuSans-2e\" x=\"63.623047\"/>\n     <use xlink:href=\"#DejaVuSans-36\" x=\"95.410156\"/>\n     <use xlink:href=\"#DejaVuSans-39\" x=\"159.033203\"/>\n     <use xlink:href=\"#DejaVuSans-32\" x=\"222.65625\"/>\n     <use xlink:href=\"#DejaVuSans-37\" x=\"286.279297\"/>\n    </g>\n   </g>\n   <g id=\"text_10\">\n    <!-- 0.15012 -->\n    <g style=\"fill: #67000d\" transform=\"translate(122.284062 61.3175)scale(0.1 -0.1)\">\n     <defs>\n      <path id=\"DejaVuSans-35\" d=\"M 691 4666 \nL 3169 4666 \nL 3169 4134 \nL 1269 4134 \nL 1269 2991 \nQ 1406 3038 1543 3061 \nQ 1681 3084 1819 3084 \nQ 2600 3084 3056 2656 \nQ 3513 2228 3513 1497 \nQ 3513 744 3044 326 \nQ 2575 -91 1722 -91 \nQ 1428 -91 1123 -41 \nQ 819 9 494 109 \nL 494 744 \nQ 775 591 1075 516 \nQ 1375 441 1709 441 \nQ 2250 441 2565 725 \nQ 2881 1009 2881 1497 \nQ 2881 1984 2565 2268 \nQ 2250 2553 1709 2553 \nQ 1456 2553 1204 2497 \nQ 953 2441 691 2322 \nL 691 4666 \nz\n\" transform=\"scale(0.015625)\"/>\n     </defs>\n     <use xlink:href=\"#DejaVuSans-30\"/>\n     <use xlink:href=\"#DejaVuSans-2e\" x=\"63.623047\"/>\n     <use xlink:href=\"#DejaVuSans-31\" x=\"95.410156\"/>\n     <use xlink:href=\"#DejaVuSans-35\" x=\"159.033203\"/>\n     <use xlink:href=\"#DejaVuSans-30\" x=\"222.65625\"/>\n     <use xlink:href=\"#DejaVuSans-31\" x=\"286.279297\"/>\n     <use xlink:href=\"#DejaVuSans-32\" x=\"349.902344\"/>\n    </g>\n   </g>\n   <g id=\"text_11\">\n    <!-- 0.15719 -->\n    <g style=\"fill: #67000d\" transform=\"translate(194.764062 61.3175)scale(0.1 -0.1)\">\n     <use xlink:href=\"#DejaVuSans-30\"/>\n     <use xlink:href=\"#DejaVuSans-2e\" x=\"63.623047\"/>\n     <use xlink:href=\"#DejaVuSans-31\" x=\"95.410156\"/>\n     <use xlink:href=\"#DejaVuSans-35\" x=\"159.033203\"/>\n     <use xlink:href=\"#DejaVuSans-37\" x=\"222.65625\"/>\n     <use xlink:href=\"#DejaVuSans-31\" x=\"286.279297\"/>\n     <use xlink:href=\"#DejaVuSans-39\" x=\"349.902344\"/>\n    </g>\n   </g>\n   <g id=\"text_12\">\n    <!-- 0.24662 -->\n    <g style=\"fill: #67000d\" transform=\"translate(49.804062 133.7975)scale(0.1 -0.1)\">\n     <defs>\n      <path id=\"DejaVuSans-34\" d=\"M 2419 4116 \nL 825 1625 \nL 2419 1625 \nL 2419 4116 \nz\nM 2253 4666 \nL 3047 4666 \nL 3047 1625 \nL 3713 1625 \nL 3713 1100 \nL 3047 1100 \nL 3047 0 \nL 2419 0 \nL 2419 1100 \nL 313 1100 \nL 313 1709 \nL 2253 4666 \nz\n\" transform=\"scale(0.015625)\"/>\n     </defs>\n     <use xlink:href=\"#DejaVuSans-30\"/>\n     <use xlink:href=\"#DejaVuSans-2e\" x=\"63.623047\"/>\n     <use xlink:href=\"#DejaVuSans-32\" x=\"95.410156\"/>\n     <use xlink:href=\"#DejaVuSans-34\" x=\"159.033203\"/>\n     <use xlink:href=\"#DejaVuSans-36\" x=\"222.65625\"/>\n     <use xlink:href=\"#DejaVuSans-36\" x=\"286.279297\"/>\n     <use xlink:href=\"#DejaVuSans-32\" x=\"349.902344\"/>\n    </g>\n   </g>\n   <g id=\"text_13\">\n    <!-- 0.74568 -->\n    <g style=\"fill: #fff5f0\" transform=\"translate(122.284062 133.7975)scale(0.1 -0.1)\">\n     <defs>\n      <path id=\"DejaVuSans-38\" d=\"M 2034 2216 \nQ 1584 2216 1326 1975 \nQ 1069 1734 1069 1313 \nQ 1069 891 1326 650 \nQ 1584 409 2034 409 \nQ 2484 409 2743 651 \nQ 3003 894 3003 1313 \nQ 3003 1734 2745 1975 \nQ 2488 2216 2034 2216 \nz\nM 1403 2484 \nQ 997 2584 770 2862 \nQ 544 3141 544 3541 \nQ 544 4100 942 4425 \nQ 1341 4750 2034 4750 \nQ 2731 4750 3128 4425 \nQ 3525 4100 3525 3541 \nQ 3525 3141 3298 2862 \nQ 3072 2584 2669 2484 \nQ 3125 2378 3379 2068 \nQ 3634 1759 3634 1313 \nQ 3634 634 3220 271 \nQ 2806 -91 2034 -91 \nQ 1263 -91 848 271 \nQ 434 634 434 1313 \nQ 434 1759 690 2068 \nQ 947 2378 1403 2484 \nz\nM 1172 3481 \nQ 1172 3119 1398 2916 \nQ 1625 2713 2034 2713 \nQ 2441 2713 2670 2916 \nQ 2900 3119 2900 3481 \nQ 2900 3844 2670 4047 \nQ 2441 4250 2034 4250 \nQ 1625 4250 1398 4047 \nQ 1172 3844 1172 3481 \nz\n\" transform=\"scale(0.015625)\"/>\n     </defs>\n     <use xlink:href=\"#DejaVuSans-30\"/>\n     <use xlink:href=\"#DejaVuSans-2e\" x=\"63.623047\"/>\n     <use xlink:href=\"#DejaVuSans-37\" x=\"95.410156\"/>\n     <use xlink:href=\"#DejaVuSans-34\" x=\"159.033203\"/>\n     <use xlink:href=\"#DejaVuSans-35\" x=\"222.65625\"/>\n     <use xlink:href=\"#DejaVuSans-36\" x=\"286.279297\"/>\n     <use xlink:href=\"#DejaVuSans-38\" x=\"349.902344\"/>\n    </g>\n   </g>\n   <g id=\"text_14\">\n    <!-- 0.0077 -->\n    <g style=\"fill: #67000d\" transform=\"translate(197.945312 133.7975)scale(0.1 -0.1)\">\n     <use xlink:href=\"#DejaVuSans-30\"/>\n     <use xlink:href=\"#DejaVuSans-2e\" x=\"63.623047\"/>\n     <use xlink:href=\"#DejaVuSans-30\" x=\"95.410156\"/>\n     <use xlink:href=\"#DejaVuSans-30\" x=\"159.033203\"/>\n     <use xlink:href=\"#DejaVuSans-37\" x=\"222.65625\"/>\n     <use xlink:href=\"#DejaVuSans-37\" x=\"286.279297\"/>\n    </g>\n   </g>\n   <g id=\"text_15\">\n    <!-- 0.17065 -->\n    <g style=\"fill: #67000d\" transform=\"translate(49.804062 206.2775)scale(0.1 -0.1)\">\n     <use xlink:href=\"#DejaVuSans-30\"/>\n     <use xlink:href=\"#DejaVuSans-2e\" x=\"63.623047\"/>\n     <use xlink:href=\"#DejaVuSans-31\" x=\"95.410156\"/>\n     <use xlink:href=\"#DejaVuSans-37\" x=\"159.033203\"/>\n     <use xlink:href=\"#DejaVuSans-30\" x=\"222.65625\"/>\n     <use xlink:href=\"#DejaVuSans-36\" x=\"286.279297\"/>\n     <use xlink:href=\"#DejaVuSans-35\" x=\"349.902344\"/>\n    </g>\n   </g>\n   <g id=\"text_16\">\n    <!-- 0.00548 -->\n    <g style=\"fill: #67000d\" transform=\"translate(122.284062 206.2775)scale(0.1 -0.1)\">\n     <use xlink:href=\"#DejaVuSans-30\"/>\n     <use xlink:href=\"#DejaVuSans-2e\" x=\"63.623047\"/>\n     <use xlink:href=\"#DejaVuSans-30\" x=\"95.410156\"/>\n     <use xlink:href=\"#DejaVuSans-30\" x=\"159.033203\"/>\n     <use xlink:href=\"#DejaVuSans-35\" x=\"222.65625\"/>\n     <use xlink:href=\"#DejaVuSans-34\" x=\"286.279297\"/>\n     <use xlink:href=\"#DejaVuSans-38\" x=\"349.902344\"/>\n    </g>\n   </g>\n   <g id=\"text_17\">\n    <!-- 0.82386 -->\n    <g style=\"fill: #fff5f0\" transform=\"translate(194.764062 206.2775)scale(0.1 -0.1)\">\n     <defs>\n      <path id=\"DejaVuSans-33\" d=\"M 2597 2516 \nQ 3050 2419 3304 2112 \nQ 3559 1806 3559 1356 \nQ 3559 666 3084 287 \nQ 2609 -91 1734 -91 \nQ 1441 -91 1130 -33 \nQ 819 25 488 141 \nL 488 750 \nQ 750 597 1062 519 \nQ 1375 441 1716 441 \nQ 2309 441 2620 675 \nQ 2931 909 2931 1356 \nQ 2931 1769 2642 2001 \nQ 2353 2234 1838 2234 \nL 1294 2234 \nL 1294 2753 \nL 1863 2753 \nQ 2328 2753 2575 2939 \nQ 2822 3125 2822 3475 \nQ 2822 3834 2567 4026 \nQ 2313 4219 1838 4219 \nQ 1578 4219 1281 4162 \nQ 984 4106 628 3988 \nL 628 4550 \nQ 988 4650 1302 4700 \nQ 1616 4750 1894 4750 \nQ 2613 4750 3031 4423 \nQ 3450 4097 3450 3541 \nQ 3450 3153 3228 2886 \nQ 3006 2619 2597 2516 \nz\n\" transform=\"scale(0.015625)\"/>\n     </defs>\n     <use xlink:href=\"#DejaVuSans-30\"/>\n     <use xlink:href=\"#DejaVuSans-2e\" x=\"63.623047\"/>\n     <use xlink:href=\"#DejaVuSans-38\" x=\"95.410156\"/>\n     <use xlink:href=\"#DejaVuSans-32\" x=\"159.033203\"/>\n     <use xlink:href=\"#DejaVuSans-33\" x=\"222.65625\"/>\n     <use xlink:href=\"#DejaVuSans-38\" x=\"286.279297\"/>\n     <use xlink:href=\"#DejaVuSans-36\" x=\"349.902344\"/>\n    </g>\n   </g>\n   <g id=\"text_18\">\n    <!-- Confusion Matrix (Normalized) -->\n    <g transform=\"translate(51.703437 16.318125)scale(0.12 -0.12)\">\n     <defs>\n      <path id=\"DejaVuSans-6f\" d=\"M 1959 3097 \nQ 1497 3097 1228 2736 \nQ 959 2375 959 1747 \nQ 959 1119 1226 758 \nQ 1494 397 1959 397 \nQ 2419 397 2687 759 \nQ 2956 1122 2956 1747 \nQ 2956 2369 2687 2733 \nQ 2419 3097 1959 3097 \nz\nM 1959 3584 \nQ 2709 3584 3137 3096 \nQ 3566 2609 3566 1747 \nQ 3566 888 3137 398 \nQ 2709 -91 1959 -91 \nQ 1206 -91 779 398 \nQ 353 888 353 1747 \nQ 353 2609 779 3096 \nQ 1206 3584 1959 3584 \nz\n\" transform=\"scale(0.015625)\"/>\n      <path id=\"DejaVuSans-6e\" d=\"M 3513 2113 \nL 3513 0 \nL 2938 0 \nL 2938 2094 \nQ 2938 2591 2744 2837 \nQ 2550 3084 2163 3084 \nQ 1697 3084 1428 2787 \nQ 1159 2491 1159 1978 \nL 1159 0 \nL 581 0 \nL 581 3500 \nL 1159 3500 \nL 1159 2956 \nQ 1366 3272 1645 3428 \nQ 1925 3584 2291 3584 \nQ 2894 3584 3203 3211 \nQ 3513 2838 3513 2113 \nz\n\" transform=\"scale(0.015625)\"/>\n      <path id=\"DejaVuSans-66\" d=\"M 2375 4863 \nL 2375 4384 \nL 1825 4384 \nQ 1516 4384 1395 4259 \nQ 1275 4134 1275 3809 \nL 1275 3500 \nL 2222 3500 \nL 2222 3053 \nL 1275 3053 \nL 1275 0 \nL 697 0 \nL 697 3053 \nL 147 3053 \nL 147 3500 \nL 697 3500 \nL 697 3744 \nQ 697 4328 969 4595 \nQ 1241 4863 1831 4863 \nL 2375 4863 \nz\n\" transform=\"scale(0.015625)\"/>\n      <path id=\"DejaVuSans-4d\" d=\"M 628 4666 \nL 1569 4666 \nL 2759 1491 \nL 3956 4666 \nL 4897 4666 \nL 4897 0 \nL 4281 0 \nL 4281 4097 \nL 3078 897 \nL 2444 897 \nL 1241 4097 \nL 1241 0 \nL 628 0 \nL 628 4666 \nz\n\" transform=\"scale(0.015625)\"/>\n      <path id=\"DejaVuSans-78\" d=\"M 3513 3500 \nL 2247 1797 \nL 3578 0 \nL 2900 0 \nL 1881 1375 \nL 863 0 \nL 184 0 \nL 1544 1831 \nL 300 3500 \nL 978 3500 \nL 1906 2253 \nL 2834 3500 \nL 3513 3500 \nz\n\" transform=\"scale(0.015625)\"/>\n      <path id=\"DejaVuSans-28\" d=\"M 1984 4856 \nQ 1566 4138 1362 3434 \nQ 1159 2731 1159 2009 \nQ 1159 1288 1364 580 \nQ 1569 -128 1984 -844 \nL 1484 -844 \nQ 1016 -109 783 600 \nQ 550 1309 550 2009 \nQ 550 2706 781 3412 \nQ 1013 4119 1484 4856 \nL 1984 4856 \nz\n\" transform=\"scale(0.015625)\"/>\n      <path id=\"DejaVuSans-4e\" d=\"M 628 4666 \nL 1478 4666 \nL 3547 763 \nL 3547 4666 \nL 4159 4666 \nL 4159 0 \nL 3309 0 \nL 1241 3903 \nL 1241 0 \nL 628 0 \nL 628 4666 \nz\n\" transform=\"scale(0.015625)\"/>\n      <path id=\"DejaVuSans-6d\" d=\"M 3328 2828 \nQ 3544 3216 3844 3400 \nQ 4144 3584 4550 3584 \nQ 5097 3584 5394 3201 \nQ 5691 2819 5691 2113 \nL 5691 0 \nL 5113 0 \nL 5113 2094 \nQ 5113 2597 4934 2840 \nQ 4756 3084 4391 3084 \nQ 3944 3084 3684 2787 \nQ 3425 2491 3425 1978 \nL 3425 0 \nL 2847 0 \nL 2847 2094 \nQ 2847 2600 2669 2842 \nQ 2491 3084 2119 3084 \nQ 1678 3084 1418 2786 \nQ 1159 2488 1159 1978 \nL 1159 0 \nL 581 0 \nL 581 3500 \nL 1159 3500 \nL 1159 2956 \nQ 1356 3278 1631 3431 \nQ 1906 3584 2284 3584 \nQ 2666 3584 2933 3390 \nQ 3200 3197 3328 2828 \nz\n\" transform=\"scale(0.015625)\"/>\n      <path id=\"DejaVuSans-7a\" d=\"M 353 3500 \nL 3084 3500 \nL 3084 2975 \nL 922 459 \nL 3084 459 \nL 3084 0 \nL 275 0 \nL 275 525 \nL 2438 3041 \nL 353 3041 \nL 353 3500 \nz\n\" transform=\"scale(0.015625)\"/>\n      <path id=\"DejaVuSans-29\" d=\"M 513 4856 \nL 1013 4856 \nQ 1481 4119 1714 3412 \nQ 1947 2706 1947 2009 \nQ 1947 1309 1714 600 \nQ 1481 -109 1013 -844 \nL 513 -844 \nQ 928 -128 1133 580 \nQ 1338 1288 1338 2009 \nQ 1338 2731 1133 3434 \nQ 928 4138 513 4856 \nz\n\" transform=\"scale(0.015625)\"/>\n     </defs>\n     <use xlink:href=\"#DejaVuSans-43\"/>\n     <use xlink:href=\"#DejaVuSans-6f\" x=\"69.824219\"/>\n     <use xlink:href=\"#DejaVuSans-6e\" x=\"131.005859\"/>\n     <use xlink:href=\"#DejaVuSans-66\" x=\"194.384766\"/>\n     <use xlink:href=\"#DejaVuSans-75\" x=\"229.589844\"/>\n     <use xlink:href=\"#DejaVuSans-73\" x=\"292.96875\"/>\n     <use xlink:href=\"#DejaVuSans-69\" x=\"345.068359\"/>\n     <use xlink:href=\"#DejaVuSans-6f\" x=\"372.851562\"/>\n     <use xlink:href=\"#DejaVuSans-6e\" x=\"434.033203\"/>\n     <use xlink:href=\"#DejaVuSans-20\" x=\"497.412109\"/>\n     <use xlink:href=\"#DejaVuSans-4d\" x=\"529.199219\"/>\n     <use xlink:href=\"#DejaVuSans-61\" x=\"615.478516\"/>\n     <use xlink:href=\"#DejaVuSans-74\" x=\"676.757812\"/>\n     <use xlink:href=\"#DejaVuSans-72\" x=\"715.966797\"/>\n     <use xlink:href=\"#DejaVuSans-69\" x=\"757.080078\"/>\n     <use xlink:href=\"#DejaVuSans-78\" x=\"784.863281\"/>\n     <use xlink:href=\"#DejaVuSans-20\" x=\"844.042969\"/>\n     <use xlink:href=\"#DejaVuSans-28\" x=\"875.830078\"/>\n     <use xlink:href=\"#DejaVuSans-4e\" x=\"914.84375\"/>\n     <use xlink:href=\"#DejaVuSans-6f\" x=\"989.648438\"/>\n     <use xlink:href=\"#DejaVuSans-72\" x=\"1050.830078\"/>\n     <use xlink:href=\"#DejaVuSans-6d\" x=\"1090.193359\"/>\n     <use xlink:href=\"#DejaVuSans-61\" x=\"1187.605469\"/>\n     <use xlink:href=\"#DejaVuSans-6c\" x=\"1248.884766\"/>\n     <use xlink:href=\"#DejaVuSans-69\" x=\"1276.667969\"/>\n     <use xlink:href=\"#DejaVuSans-7a\" x=\"1304.451172\"/>\n     <use xlink:href=\"#DejaVuSans-65\" x=\"1356.941406\"/>\n     <use xlink:href=\"#DejaVuSans-64\" x=\"1418.464844\"/>\n     <use xlink:href=\"#DejaVuSans-29\" x=\"1481.941406\"/>\n    </g>\n   </g>\n  </g>\n  <g id=\"axes_2\">\n   <g id=\"patch_7\">\n    <path d=\"M 268.420625 239.758125 \nL 279.292625 239.758125 \nL 279.292625 22.318125 \nL 268.420625 22.318125 \nz\n\" style=\"fill: #ffffff\"/>\n   </g>\n   <g id=\"patch_8\">\n    <path clip-path=\"url(#pe600e1790c)\" style=\"fill: #ffffff; stroke: #ffffff; stroke-width: 0.01; stroke-linejoin: miter\"/>\n   </g>\n   <image xlink:href=\"data:image/png;base64,\niVBORw0KGgoAAAANSUhEUgAAAAsAAADZCAYAAAD2WsoCAAABLklEQVR4nO3ZMY4DMQxDUS+Q+191m5SxvW1Kv4ILOkhqQviiKM1g8rOfv3sc/h5jHGvHY+yYOIixRHysvbVBqLxbGoy5UcJMGOvCoeQw1hRxalNyO0iV9xQ3Opit8sc3SJVjbtjlv9KNjgbpItGty2HkrKNHm7kRwwhm4+vGm7jk8pdsSvDWdbhhhzE3lK8b/yHeJQ2WWFey3SXWWTZi3zfsOUjhp2zEXuNz1pEb0mDLUKzysbZm3C3WxbKRyzNhrJliBm1N5WkTFIxcZREvykbHUHKVMfyAcaN1lI1c+EGr4z4vrD5LZcQQsfzrQRg2FMEg69ANEE9ijmHYBGm7Yxh2ZAxDxLlTIGK7/FTZMED8yjFbNlLhf3Vg5CZIzOiGiGM7mPN5EvOF1tm4Uxh/02m75MM+l/YAAAAASUVORK5CYII=\" id=\"imagee7202f6267\" transform=\"scale(1 -1)translate(0 -217)\" x=\"268\" y=\"-22\" width=\"11\" height=\"217\"/>\n   <g id=\"matplotlib.axis_3\">\n    <g id=\"ytick_4\">\n     <g id=\"line2d_7\">\n      <defs>\n       <path id=\"m57c7207519\" d=\"M 0 0 \nL 3.5 0 \n\" style=\"stroke: #000000; stroke-width: 0.8\"/>\n      </defs>\n      <g>\n       <use xlink:href=\"#m57c7207519\" x=\"279.292625\" y=\"214.644573\" style=\"stroke: #000000; stroke-width: 0.8\"/>\n      </g>\n     </g>\n     <g id=\"text_19\">\n      <!-- 0.1 -->\n      <g transform=\"translate(286.292625 218.443792)scale(0.1 -0.1)\">\n       <use xlink:href=\"#DejaVuSans-30\"/>\n       <use xlink:href=\"#DejaVuSans-2e\" x=\"63.623047\"/>\n       <use xlink:href=\"#DejaVuSans-31\" x=\"95.410156\"/>\n      </g>\n     </g>\n    </g>\n    <g id=\"ytick_5\">\n     <g id=\"line2d_8\">\n      <g>\n       <use xlink:href=\"#m57c7207519\" x=\"279.292625\" y=\"188.075009\" style=\"stroke: #000000; stroke-width: 0.8\"/>\n      </g>\n     </g>\n     <g id=\"text_20\">\n      <!-- 0.2 -->\n      <g transform=\"translate(286.292625 191.874227)scale(0.1 -0.1)\">\n       <use xlink:href=\"#DejaVuSans-30\"/>\n       <use xlink:href=\"#DejaVuSans-2e\" x=\"63.623047\"/>\n       <use xlink:href=\"#DejaVuSans-32\" x=\"95.410156\"/>\n      </g>\n     </g>\n    </g>\n    <g id=\"ytick_6\">\n     <g id=\"line2d_9\">\n      <g>\n       <use xlink:href=\"#m57c7207519\" x=\"279.292625\" y=\"161.505444\" style=\"stroke: #000000; stroke-width: 0.8\"/>\n      </g>\n     </g>\n     <g id=\"text_21\">\n      <!-- 0.3 -->\n      <g transform=\"translate(286.292625 165.304663)scale(0.1 -0.1)\">\n       <use xlink:href=\"#DejaVuSans-30\"/>\n       <use xlink:href=\"#DejaVuSans-2e\" x=\"63.623047\"/>\n       <use xlink:href=\"#DejaVuSans-33\" x=\"95.410156\"/>\n      </g>\n     </g>\n    </g>\n    <g id=\"ytick_7\">\n     <g id=\"line2d_10\">\n      <g>\n       <use xlink:href=\"#m57c7207519\" x=\"279.292625\" y=\"134.93588\" style=\"stroke: #000000; stroke-width: 0.8\"/>\n      </g>\n     </g>\n     <g id=\"text_22\">\n      <!-- 0.4 -->\n      <g transform=\"translate(286.292625 138.735099)scale(0.1 -0.1)\">\n       <use xlink:href=\"#DejaVuSans-30\"/>\n       <use xlink:href=\"#DejaVuSans-2e\" x=\"63.623047\"/>\n       <use xlink:href=\"#DejaVuSans-34\" x=\"95.410156\"/>\n      </g>\n     </g>\n    </g>\n    <g id=\"ytick_8\">\n     <g id=\"line2d_11\">\n      <g>\n       <use xlink:href=\"#m57c7207519\" x=\"279.292625\" y=\"108.366316\" style=\"stroke: #000000; stroke-width: 0.8\"/>\n      </g>\n     </g>\n     <g id=\"text_23\">\n      <!-- 0.5 -->\n      <g transform=\"translate(286.292625 112.165535)scale(0.1 -0.1)\">\n       <use xlink:href=\"#DejaVuSans-30\"/>\n       <use xlink:href=\"#DejaVuSans-2e\" x=\"63.623047\"/>\n       <use xlink:href=\"#DejaVuSans-35\" x=\"95.410156\"/>\n      </g>\n     </g>\n    </g>\n    <g id=\"ytick_9\">\n     <g id=\"line2d_12\">\n      <g>\n       <use xlink:href=\"#m57c7207519\" x=\"279.292625\" y=\"81.796752\" style=\"stroke: #000000; stroke-width: 0.8\"/>\n      </g>\n     </g>\n     <g id=\"text_24\">\n      <!-- 0.6 -->\n      <g transform=\"translate(286.292625 85.59597)scale(0.1 -0.1)\">\n       <use xlink:href=\"#DejaVuSans-30\"/>\n       <use xlink:href=\"#DejaVuSans-2e\" x=\"63.623047\"/>\n       <use xlink:href=\"#DejaVuSans-36\" x=\"95.410156\"/>\n      </g>\n     </g>\n    </g>\n    <g id=\"ytick_10\">\n     <g id=\"line2d_13\">\n      <g>\n       <use xlink:href=\"#m57c7207519\" x=\"279.292625\" y=\"55.227187\" style=\"stroke: #000000; stroke-width: 0.8\"/>\n      </g>\n     </g>\n     <g id=\"text_25\">\n      <!-- 0.7 -->\n      <g transform=\"translate(286.292625 59.026406)scale(0.1 -0.1)\">\n       <use xlink:href=\"#DejaVuSans-30\"/>\n       <use xlink:href=\"#DejaVuSans-2e\" x=\"63.623047\"/>\n       <use xlink:href=\"#DejaVuSans-37\" x=\"95.410156\"/>\n      </g>\n     </g>\n    </g>\n    <g id=\"ytick_11\">\n     <g id=\"line2d_14\">\n      <g>\n       <use xlink:href=\"#m57c7207519\" x=\"279.292625\" y=\"28.657623\" style=\"stroke: #000000; stroke-width: 0.8\"/>\n      </g>\n     </g>\n     <g id=\"text_26\">\n      <!-- 0.8 -->\n      <g transform=\"translate(286.292625 32.456842)scale(0.1 -0.1)\">\n       <use xlink:href=\"#DejaVuSans-30\"/>\n       <use xlink:href=\"#DejaVuSans-2e\" x=\"63.623047\"/>\n       <use xlink:href=\"#DejaVuSans-38\" x=\"95.410156\"/>\n      </g>\n     </g>\n    </g>\n   </g>\n   <g id=\"LineCollection_1\"/>\n   <g id=\"patch_9\">\n    <path d=\"M 268.420625 239.758125 \nL 273.856625 239.758125 \nL 279.292625 239.758125 \nL 279.292625 22.318125 \nL 273.856625 22.318125 \nL 268.420625 22.318125 \nL 268.420625 239.758125 \nz\n\" style=\"fill: none; stroke: #000000; stroke-width: 0.8; stroke-linejoin: miter; stroke-linecap: square\"/>\n   </g>\n  </g>\n </g>\n <defs>\n  <clipPath id=\"p0ce1946cab\">\n   <rect x=\"34.240625\" y=\"22.318125\" width=\"217.44\" height=\"217.44\"/>\n  </clipPath>\n  <clipPath id=\"pe600e1790c\">\n   <rect x=\"268.420625\" y=\"22.318125\" width=\"10.872\" height=\"217.44\"/>\n  </clipPath>\n </defs>\n</svg>\n",
            "image/png": "[encoded data removed]"
          },
          "metadata": {
            "needs_background": "light"
          }
        }
      ],
      "source": [
        "cm.plot(cmap=plt.cm.Reds,normalized=True,number_label=True,plot_lib=\"matplotlib\")"
      ]
    },
    {
      "cell_type": "code",
      "execution_count": 17,
      "metadata": {},
      "outputs": [
        {
          "output_type": "display_data",
          "data": {
            "text/plain": "<IPython.core.display.HTML object>",
            "text/html": "\n      <iframe id=\"tensorboard-frame-d1d86c6ae8d1fa9f\" width=\"100%\" height=\"800\" frameborder=\"0\">\n      </iframe>\n      <script>\n        (function() {\n          const frame = document.getElementById(\"tensorboard-frame-d1d86c6ae8d1fa9f\");\n          const url = new URL(\"/\", window.location);\n          const port = 6006;\n          if (port) {\n            url.port = port;\n          }\n          frame.src = url;\n        })();\n      </script>\n    "
          },
          "metadata": {}
        }
      ],
      "source": [
        "%tensorboard --logdir ./logs/"
      ]
    }
  ]
}